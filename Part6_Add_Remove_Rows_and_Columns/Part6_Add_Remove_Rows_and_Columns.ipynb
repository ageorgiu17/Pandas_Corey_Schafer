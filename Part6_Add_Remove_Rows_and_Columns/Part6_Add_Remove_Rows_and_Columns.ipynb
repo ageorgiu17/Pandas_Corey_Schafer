{
 "cells": [
  {
   "cell_type": "code",
   "execution_count": 74,
   "metadata": {},
   "outputs": [],
   "source": [
    "#importing the library\n",
    "import pandas as pd"
   ]
  },
  {
   "cell_type": "code",
   "execution_count": 75,
   "metadata": {},
   "outputs": [],
   "source": [
    "# creating a dictionary to load it as a data frame\n",
    "peoples = {\n",
    "    \"first_name\" : [\"Corey\", \"Jane\", \"John\"],\n",
    "    \"last_name\" : [\"Schafer\", \"Doe\", \"Doe\"],\n",
    "    \"email\" : [\"CoreySchafer@mail.com\", \"JaneDoe@mail.com\", \"JohnDoe@mail.com\"]\n",
    "}"
   ]
  },
  {
   "cell_type": "code",
   "execution_count": 76,
   "metadata": {},
   "outputs": [],
   "source": [
    "# creating the data frame\n",
    "peoples_df = pd.DataFrame(peoples)"
   ]
  },
  {
   "cell_type": "code",
   "execution_count": 77,
   "metadata": {},
   "outputs": [
    {
     "data": {
      "text/html": [
       "<div>\n",
       "<style scoped>\n",
       "    .dataframe tbody tr th:only-of-type {\n",
       "        vertical-align: middle;\n",
       "    }\n",
       "\n",
       "    .dataframe tbody tr th {\n",
       "        vertical-align: top;\n",
       "    }\n",
       "\n",
       "    .dataframe thead th {\n",
       "        text-align: right;\n",
       "    }\n",
       "</style>\n",
       "<table border=\"1\" class=\"dataframe\">\n",
       "  <thead>\n",
       "    <tr style=\"text-align: right;\">\n",
       "      <th></th>\n",
       "      <th>first_name</th>\n",
       "      <th>last_name</th>\n",
       "      <th>email</th>\n",
       "    </tr>\n",
       "  </thead>\n",
       "  <tbody>\n",
       "    <tr>\n",
       "      <th>0</th>\n",
       "      <td>Corey</td>\n",
       "      <td>Schafer</td>\n",
       "      <td>CoreySchafer@mail.com</td>\n",
       "    </tr>\n",
       "    <tr>\n",
       "      <th>1</th>\n",
       "      <td>Jane</td>\n",
       "      <td>Doe</td>\n",
       "      <td>JaneDoe@mail.com</td>\n",
       "    </tr>\n",
       "    <tr>\n",
       "      <th>2</th>\n",
       "      <td>John</td>\n",
       "      <td>Doe</td>\n",
       "      <td>JohnDoe@mail.com</td>\n",
       "    </tr>\n",
       "  </tbody>\n",
       "</table>\n",
       "</div>"
      ],
      "text/plain": [
       "  first_name last_name                  email\n",
       "0      Corey   Schafer  CoreySchafer@mail.com\n",
       "1       Jane       Doe       JaneDoe@mail.com\n",
       "2       John       Doe       JohnDoe@mail.com"
      ]
     },
     "execution_count": 77,
     "metadata": {},
     "output_type": "execute_result"
    }
   ],
   "source": [
    "peoples_df"
   ]
  },
  {
   "cell_type": "markdown",
   "metadata": {},
   "source": [
    "În cadrul acestei părți din tutorial o să învățăm cum să adăugăm sau să ștergem rânduri sau coloane din cadrul unui data frame. De asemenea o să ne uităm peste cum putem să combinăm date din mai multe coloane într-o singură coloană."
   ]
  },
  {
   "cell_type": "markdown",
   "metadata": {},
   "source": [
    "O să începem cu procedeul de a adăuga coloane. Acest procedeu este destul de simplu deoarece este asemănător cu procedeul prin care am făcut update la anumite valori. Pur și simplu creem o coloană și îi pasăm un obiect de tip Serie care să conțină valorile pe care dorim să le aibă acea coloană nouă."
   ]
  },
  {
   "cell_type": "markdown",
   "metadata": {},
   "source": [
    "Să presupunem că dorim să combină coloane de 'first_name' și 'last_name' într-o singură coloană pe care să o denumim 'full_name'. Pentru a extrage datele sub formă de Series dintr-un data frame știm cum se face acest lucru"
   ]
  },
  {
   "cell_type": "code",
   "execution_count": 78,
   "metadata": {},
   "outputs": [
    {
     "data": {
      "text/plain": [
       "0    Corey\n",
       "1     Jane\n",
       "2     John\n",
       "Name: first_name, dtype: object"
      ]
     },
     "execution_count": 78,
     "metadata": {},
     "output_type": "execute_result"
    }
   ],
   "source": [
    "peoples_df['first_name']"
   ]
  },
  {
   "cell_type": "markdown",
   "metadata": {},
   "source": [
    "Dacă dorim să avem valori din două coloane sub formă de un singur obiect de tip Series, atunci pasul presupune doar concatenarea acestor valori (concatenarea pentru string-uri se va face cu semnul +)"
   ]
  },
  {
   "cell_type": "code",
   "execution_count": 79,
   "metadata": {},
   "outputs": [
    {
     "data": {
      "text/plain": [
       "0    Corey Schafer\n",
       "1         Jane Doe\n",
       "2         John Doe\n",
       "dtype: object"
      ]
     },
     "execution_count": 79,
     "metadata": {},
     "output_type": "execute_result"
    }
   ],
   "source": [
    "peoples_df['first_name'] + ' ' + peoples_df['last_name']"
   ]
  },
  {
   "cell_type": "markdown",
   "metadata": {},
   "source": [
    "Spațiul acela este utilizat pentru a separa valorile din coloana 'first_name' de cele din coloane 'last_name'. Pentru a adăuga o nouă coloană cu aceste valori este destul să creem asignăm acest Series unei noi coloane pe care o denumim noi"
   ]
  },
  {
   "cell_type": "code",
   "execution_count": 80,
   "metadata": {},
   "outputs": [],
   "source": [
    "peoples_df['full_name'] = peoples_df['first_name'] + ' ' + peoples_df['last_name']"
   ]
  },
  {
   "cell_type": "code",
   "execution_count": 81,
   "metadata": {},
   "outputs": [
    {
     "data": {
      "text/html": [
       "<div>\n",
       "<style scoped>\n",
       "    .dataframe tbody tr th:only-of-type {\n",
       "        vertical-align: middle;\n",
       "    }\n",
       "\n",
       "    .dataframe tbody tr th {\n",
       "        vertical-align: top;\n",
       "    }\n",
       "\n",
       "    .dataframe thead th {\n",
       "        text-align: right;\n",
       "    }\n",
       "</style>\n",
       "<table border=\"1\" class=\"dataframe\">\n",
       "  <thead>\n",
       "    <tr style=\"text-align: right;\">\n",
       "      <th></th>\n",
       "      <th>first_name</th>\n",
       "      <th>last_name</th>\n",
       "      <th>email</th>\n",
       "      <th>full_name</th>\n",
       "    </tr>\n",
       "  </thead>\n",
       "  <tbody>\n",
       "    <tr>\n",
       "      <th>0</th>\n",
       "      <td>Corey</td>\n",
       "      <td>Schafer</td>\n",
       "      <td>CoreySchafer@mail.com</td>\n",
       "      <td>Corey Schafer</td>\n",
       "    </tr>\n",
       "    <tr>\n",
       "      <th>1</th>\n",
       "      <td>Jane</td>\n",
       "      <td>Doe</td>\n",
       "      <td>JaneDoe@mail.com</td>\n",
       "      <td>Jane Doe</td>\n",
       "    </tr>\n",
       "    <tr>\n",
       "      <th>2</th>\n",
       "      <td>John</td>\n",
       "      <td>Doe</td>\n",
       "      <td>JohnDoe@mail.com</td>\n",
       "      <td>John Doe</td>\n",
       "    </tr>\n",
       "  </tbody>\n",
       "</table>\n",
       "</div>"
      ],
      "text/plain": [
       "  first_name last_name                  email      full_name\n",
       "0      Corey   Schafer  CoreySchafer@mail.com  Corey Schafer\n",
       "1       Jane       Doe       JaneDoe@mail.com       Jane Doe\n",
       "2       John       Doe       JohnDoe@mail.com       John Doe"
      ]
     },
     "execution_count": 81,
     "metadata": {},
     "output_type": "execute_result"
    }
   ],
   "source": [
    "peoples_df"
   ]
  },
  {
   "cell_type": "markdown",
   "metadata": {},
   "source": [
    "În acest moment putem observa că noua coloană a fost adăugată în cadrul acestui data frame. În cazul de față se lucrează cu date de tip string, dar la fel de bine se poate crea o nouă coloană care să rezulte din utilizarea metodei 'apply()' la care să fie trecut ca și argument o funcție ce realizează anumite calcule."
   ]
  },
  {
   "cell_type": "markdown",
   "metadata": {},
   "source": [
    "Un lucru de ținut minte este faptul că nu putem utiliza notația cu punct pentru a crea o nouă coloană, trebuie să utilizăm notația cu paranteze drepte. Dacă utilizăm notația cu punct, atunci Python crede că dorim să atribuim un atribut unui data frame, nu o nouă coloană. Acesta este procedeul prin care adăugăm noi coloane în cadrul data frame-ului. Acum să ne uităm cum anume putem șterge anumite coloane dintr-un data frame. Să presupunem că nu mai avem nevoie de coloana 'first_name'. Pentru a șterge o coloană putem utiliza metoda `.drop()`. Acestei metode trebuie să îi specificăm faptul că dorim să ștergem o coloană, iar acest lucru se face prin specificare argumentului 'columns'. Acestui argument îi oferim ca și valoare fie un singur element (adică doar un nume de coloană), fie o listă cu mai multe coloane (în cazul în care dorim să ștergem mai multe coloane)"
   ]
  },
  {
   "cell_type": "code",
   "execution_count": 82,
   "metadata": {},
   "outputs": [
    {
     "data": {
      "text/html": [
       "<div>\n",
       "<style scoped>\n",
       "    .dataframe tbody tr th:only-of-type {\n",
       "        vertical-align: middle;\n",
       "    }\n",
       "\n",
       "    .dataframe tbody tr th {\n",
       "        vertical-align: top;\n",
       "    }\n",
       "\n",
       "    .dataframe thead th {\n",
       "        text-align: right;\n",
       "    }\n",
       "</style>\n",
       "<table border=\"1\" class=\"dataframe\">\n",
       "  <thead>\n",
       "    <tr style=\"text-align: right;\">\n",
       "      <th></th>\n",
       "      <th>last_name</th>\n",
       "      <th>email</th>\n",
       "      <th>full_name</th>\n",
       "    </tr>\n",
       "  </thead>\n",
       "  <tbody>\n",
       "    <tr>\n",
       "      <th>0</th>\n",
       "      <td>Schafer</td>\n",
       "      <td>CoreySchafer@mail.com</td>\n",
       "      <td>Corey Schafer</td>\n",
       "    </tr>\n",
       "    <tr>\n",
       "      <th>1</th>\n",
       "      <td>Doe</td>\n",
       "      <td>JaneDoe@mail.com</td>\n",
       "      <td>Jane Doe</td>\n",
       "    </tr>\n",
       "    <tr>\n",
       "      <th>2</th>\n",
       "      <td>Doe</td>\n",
       "      <td>JohnDoe@mail.com</td>\n",
       "      <td>John Doe</td>\n",
       "    </tr>\n",
       "  </tbody>\n",
       "</table>\n",
       "</div>"
      ],
      "text/plain": [
       "  last_name                  email      full_name\n",
       "0   Schafer  CoreySchafer@mail.com  Corey Schafer\n",
       "1       Doe       JaneDoe@mail.com       Jane Doe\n",
       "2       Doe       JohnDoe@mail.com       John Doe"
      ]
     },
     "execution_count": 82,
     "metadata": {},
     "output_type": "execute_result"
    }
   ],
   "source": [
    "peoples_df.drop(columns='first_name')"
   ]
  },
  {
   "cell_type": "markdown",
   "metadata": {},
   "source": [
    "Ca și majoritatea metodelor, aceasta ne afișează doar un view pentru cum ar arăta noul data frame. Pentru a face aceste modificări permanente trebuie să utilizăm argumentul 'inplace=True'. De data aceasta o să ștergem și coloana 'last_name'"
   ]
  },
  {
   "cell_type": "code",
   "execution_count": 83,
   "metadata": {},
   "outputs": [],
   "source": [
    "peoples_df.drop(columns=['first_name', 'last_name'], inplace=True)"
   ]
  },
  {
   "cell_type": "code",
   "execution_count": 84,
   "metadata": {},
   "outputs": [
    {
     "data": {
      "text/html": [
       "<div>\n",
       "<style scoped>\n",
       "    .dataframe tbody tr th:only-of-type {\n",
       "        vertical-align: middle;\n",
       "    }\n",
       "\n",
       "    .dataframe tbody tr th {\n",
       "        vertical-align: top;\n",
       "    }\n",
       "\n",
       "    .dataframe thead th {\n",
       "        text-align: right;\n",
       "    }\n",
       "</style>\n",
       "<table border=\"1\" class=\"dataframe\">\n",
       "  <thead>\n",
       "    <tr style=\"text-align: right;\">\n",
       "      <th></th>\n",
       "      <th>email</th>\n",
       "      <th>full_name</th>\n",
       "    </tr>\n",
       "  </thead>\n",
       "  <tbody>\n",
       "    <tr>\n",
       "      <th>0</th>\n",
       "      <td>CoreySchafer@mail.com</td>\n",
       "      <td>Corey Schafer</td>\n",
       "    </tr>\n",
       "    <tr>\n",
       "      <th>1</th>\n",
       "      <td>JaneDoe@mail.com</td>\n",
       "      <td>Jane Doe</td>\n",
       "    </tr>\n",
       "    <tr>\n",
       "      <th>2</th>\n",
       "      <td>JohnDoe@mail.com</td>\n",
       "      <td>John Doe</td>\n",
       "    </tr>\n",
       "  </tbody>\n",
       "</table>\n",
       "</div>"
      ],
      "text/plain": [
       "                   email      full_name\n",
       "0  CoreySchafer@mail.com  Corey Schafer\n",
       "1       JaneDoe@mail.com       Jane Doe\n",
       "2       JohnDoe@mail.com       John Doe"
      ]
     },
     "execution_count": 84,
     "metadata": {},
     "output_type": "execute_result"
    }
   ],
   "source": [
    "peoples_df"
   ]
  },
  {
   "cell_type": "markdown",
   "metadata": {},
   "source": [
    "Dacă dorim să inversăm procesul, și anume să despărțim valorile din coloana 'full_name' și să le punem în coloane diferite, atunci procedeul este unul puțin mai complicat. Pentru asta o să ne utilizăm de clasa 'str' aplicată asupra obiectului Series ce conține date referitoare la coloan 'full_name'. Pentru acel Series o să aplicăm metoda '.split()' care o să splituiască un string după o anumită valoare (valoare în cazul de față o să fie un caracter de spațiu)"
   ]
  },
  {
   "cell_type": "code",
   "execution_count": 85,
   "metadata": {},
   "outputs": [
    {
     "data": {
      "text/plain": [
       "0    [Corey, Schafer]\n",
       "1         [Jane, Doe]\n",
       "2         [John, Doe]\n",
       "Name: full_name, dtype: object"
      ]
     },
     "execution_count": 85,
     "metadata": {},
     "output_type": "execute_result"
    }
   ],
   "source": [
    "peoples_df['full_name'].str.split(' ')"
   ]
  },
  {
   "cell_type": "markdown",
   "metadata": {},
   "source": [
    "Rezultatul este repezentat de valori pentru 'first_name' și 'last_name' într-o listă. Dacă dorim să creem două coloane cu aceste valori, atunci trebuie să facem un expand la lista respectivă pentru a fi în două coloane diferite valorile respective. Pentru asta o să utilizăm argumentul `expand` din pandas la care o să îi atribuim valoarea True. Argumentul respectiv trebuie trecut în cadrul metodei 'split'"
   ]
  },
  {
   "cell_type": "code",
   "execution_count": 86,
   "metadata": {},
   "outputs": [
    {
     "data": {
      "text/html": [
       "<div>\n",
       "<style scoped>\n",
       "    .dataframe tbody tr th:only-of-type {\n",
       "        vertical-align: middle;\n",
       "    }\n",
       "\n",
       "    .dataframe tbody tr th {\n",
       "        vertical-align: top;\n",
       "    }\n",
       "\n",
       "    .dataframe thead th {\n",
       "        text-align: right;\n",
       "    }\n",
       "</style>\n",
       "<table border=\"1\" class=\"dataframe\">\n",
       "  <thead>\n",
       "    <tr style=\"text-align: right;\">\n",
       "      <th></th>\n",
       "      <th>0</th>\n",
       "      <th>1</th>\n",
       "    </tr>\n",
       "  </thead>\n",
       "  <tbody>\n",
       "    <tr>\n",
       "      <th>0</th>\n",
       "      <td>Corey</td>\n",
       "      <td>Schafer</td>\n",
       "    </tr>\n",
       "    <tr>\n",
       "      <th>1</th>\n",
       "      <td>Jane</td>\n",
       "      <td>Doe</td>\n",
       "    </tr>\n",
       "    <tr>\n",
       "      <th>2</th>\n",
       "      <td>John</td>\n",
       "      <td>Doe</td>\n",
       "    </tr>\n",
       "  </tbody>\n",
       "</table>\n",
       "</div>"
      ],
      "text/plain": [
       "       0        1\n",
       "0  Corey  Schafer\n",
       "1   Jane      Doe\n",
       "2   John      Doe"
      ]
     },
     "execution_count": 86,
     "metadata": {},
     "output_type": "execute_result"
    }
   ],
   "source": [
    "peoples_df['full_name'].str.split(' ', expand=True)"
   ]
  },
  {
   "cell_type": "markdown",
   "metadata": {},
   "source": [
    "În acest moemnt, rezultatul pare asemănător cu un data frame, unde avem două coloane. Ce este de făcut acuma este să creem două coloane în data frame la care să le atribuim ca și valori aceste două coloane rezulate mai sus. Din cadrul turorialului am învățat că pentru a selecta mai multe coloane trebuie să trecem în cadrul parantezelor drepte o listă de nume (nume care să reprezinte coloane)"
   ]
  },
  {
   "cell_type": "code",
   "execution_count": 91,
   "metadata": {},
   "outputs": [],
   "source": [
    "peoples_df[['first_name', 'last_name']] = peoples_df['full_name'].str.split(' ', expand=True)"
   ]
  },
  {
   "cell_type": "code",
   "execution_count": 92,
   "metadata": {},
   "outputs": [
    {
     "data": {
      "text/html": [
       "<div>\n",
       "<style scoped>\n",
       "    .dataframe tbody tr th:only-of-type {\n",
       "        vertical-align: middle;\n",
       "    }\n",
       "\n",
       "    .dataframe tbody tr th {\n",
       "        vertical-align: top;\n",
       "    }\n",
       "\n",
       "    .dataframe thead th {\n",
       "        text-align: right;\n",
       "    }\n",
       "</style>\n",
       "<table border=\"1\" class=\"dataframe\">\n",
       "  <thead>\n",
       "    <tr style=\"text-align: right;\">\n",
       "      <th></th>\n",
       "      <th>email</th>\n",
       "      <th>full_name</th>\n",
       "      <th>first_name</th>\n",
       "      <th>last_name</th>\n",
       "    </tr>\n",
       "  </thead>\n",
       "  <tbody>\n",
       "    <tr>\n",
       "      <th>0</th>\n",
       "      <td>CoreySchafer@mail.com</td>\n",
       "      <td>Corey Schafer</td>\n",
       "      <td>Corey</td>\n",
       "      <td>Schafer</td>\n",
       "    </tr>\n",
       "    <tr>\n",
       "      <th>1</th>\n",
       "      <td>JaneDoe@mail.com</td>\n",
       "      <td>Jane Doe</td>\n",
       "      <td>Jane</td>\n",
       "      <td>Doe</td>\n",
       "    </tr>\n",
       "    <tr>\n",
       "      <th>2</th>\n",
       "      <td>JohnDoe@mail.com</td>\n",
       "      <td>John Doe</td>\n",
       "      <td>John</td>\n",
       "      <td>Doe</td>\n",
       "    </tr>\n",
       "  </tbody>\n",
       "</table>\n",
       "</div>"
      ],
      "text/plain": [
       "                   email      full_name first_name last_name\n",
       "0  CoreySchafer@mail.com  Corey Schafer      Corey   Schafer\n",
       "1       JaneDoe@mail.com       Jane Doe       Jane       Doe\n",
       "2       JohnDoe@mail.com       John Doe       John       Doe"
      ]
     },
     "execution_count": 92,
     "metadata": {},
     "output_type": "execute_result"
    }
   ],
   "source": [
    "peoples_df"
   ]
  },
  {
   "cell_type": "markdown",
   "metadata": {},
   "source": [
    "Acum dacă ne uităm la data frame-ul nostru putem observa că am adăugat dpuă noi coloane de 'fist_name' și 'last_name' cu valorie ce au fost returnate după aplicarea metodei '.split()' împreună cu argumentul 'expand=True'. Acesta este modul prin care putem adăuga sau șterge anumite coloane din cadrul unui data frame. Acum să ne uităm peste modalitățile prin care putem adăuga anumite rânduri în cadrul data frame-ului,"
   ]
  },
  {
   "cell_type": "markdown",
   "metadata": {},
   "source": [
    "Există mai multe modalități prin care poate am dori să aduăgăm rânduri la un data frame. Pentru început am putea adăuga doar un singur rând de date pentru data frame-ul respectiv. Modul al doilea este să adăugăm un data frame existent la un alt data frame prin a adăuga la final rândurile de la un data frame la altul. Pentru început o să ne uităm la cum putem adăuga un singur rând de date. Pentru asta o să utilizăm metoda `append()`. Acestei metode îi oferim ca și atribut un dicționar de valori, unde cheia este numele coloanei, iar valoarea este valoarea ce dorim să fie în noul rând din data frame"
   ]
  },
  {
   "cell_type": "code",
   "execution_count": 93,
   "metadata": {},
   "outputs": [
    {
     "name": "stderr",
     "output_type": "stream",
     "text": [
      "/tmp/ipykernel_528430/2237150290.py:1: FutureWarning: The frame.append method is deprecated and will be removed from pandas in a future version. Use pandas.concat instead.\n",
      "  peoples_df.append({'first_name' : 'Tony'})\n"
     ]
    },
    {
     "ename": "TypeError",
     "evalue": "Can only append a dict if ignore_index=True",
     "output_type": "error",
     "traceback": [
      "\u001b[0;31m---------------------------------------------------------------------------\u001b[0m",
      "\u001b[0;31mTypeError\u001b[0m                                 Traceback (most recent call last)",
      "\u001b[1;32m/home/andreigeorgiu/python/src/youtube/corey_schafer/Pandas/Part6_Add_Remove_Rows_and_Columns/Part6_Add_Remove_Rows_and_Columns.ipynb Cell 29'\u001b[0m in \u001b[0;36m<cell line: 1>\u001b[0;34m()\u001b[0m\n\u001b[0;32m----> <a href='vscode-notebook-cell:/home/andreigeorgiu/python/src/youtube/corey_schafer/Pandas/Part6_Add_Remove_Rows_and_Columns/Part6_Add_Remove_Rows_and_Columns.ipynb#ch0000046?line=0'>1</a>\u001b[0m peoples_df\u001b[39m.\u001b[39;49mappend({\u001b[39m'\u001b[39;49m\u001b[39mfirst_name\u001b[39;49m\u001b[39m'\u001b[39;49m : \u001b[39m'\u001b[39;49m\u001b[39mTony\u001b[39;49m\u001b[39m'\u001b[39;49m})\n",
      "File \u001b[0;32m~/python/src/youtube/corey_schafer/Pandas/venv/lib/python3.9/site-packages/pandas/core/frame.py:9045\u001b[0m, in \u001b[0;36mDataFrame.append\u001b[0;34m(self, other, ignore_index, verify_integrity, sort)\u001b[0m\n\u001b[1;32m   8942\u001b[0m \u001b[39m\"\"\"\u001b[39;00m\n\u001b[1;32m   8943\u001b[0m \u001b[39mAppend rows of `other` to the end of caller, returning a new object.\u001b[39;00m\n\u001b[1;32m   8944\u001b[0m \n\u001b[0;32m   (...)\u001b[0m\n\u001b[1;32m   9035\u001b[0m \u001b[39m4  4\u001b[39;00m\n\u001b[1;32m   9036\u001b[0m \u001b[39m\"\"\"\u001b[39;00m\n\u001b[1;32m   9037\u001b[0m warnings\u001b[39m.\u001b[39mwarn(\n\u001b[1;32m   9038\u001b[0m     \u001b[39m\"\u001b[39m\u001b[39mThe frame.append method is deprecated \u001b[39m\u001b[39m\"\u001b[39m\n\u001b[1;32m   9039\u001b[0m     \u001b[39m\"\u001b[39m\u001b[39mand will be removed from pandas in a future version. \u001b[39m\u001b[39m\"\u001b[39m\n\u001b[0;32m   (...)\u001b[0m\n\u001b[1;32m   9042\u001b[0m     stacklevel\u001b[39m=\u001b[39mfind_stack_level(),\n\u001b[1;32m   9043\u001b[0m )\n\u001b[0;32m-> 9045\u001b[0m \u001b[39mreturn\u001b[39;00m \u001b[39mself\u001b[39;49m\u001b[39m.\u001b[39;49m_append(other, ignore_index, verify_integrity, sort)\n",
      "File \u001b[0;32m~/python/src/youtube/corey_schafer/Pandas/venv/lib/python3.9/site-packages/pandas/core/frame.py:9058\u001b[0m, in \u001b[0;36mDataFrame._append\u001b[0;34m(self, other, ignore_index, verify_integrity, sort)\u001b[0m\n\u001b[1;32m   9056\u001b[0m \u001b[39mif\u001b[39;00m \u001b[39misinstance\u001b[39m(other, \u001b[39mdict\u001b[39m):\n\u001b[1;32m   9057\u001b[0m     \u001b[39mif\u001b[39;00m \u001b[39mnot\u001b[39;00m ignore_index:\n\u001b[0;32m-> 9058\u001b[0m         \u001b[39mraise\u001b[39;00m \u001b[39mTypeError\u001b[39;00m(\u001b[39m\"\u001b[39m\u001b[39mCan only append a dict if ignore_index=True\u001b[39m\u001b[39m\"\u001b[39m)\n\u001b[1;32m   9059\u001b[0m     other \u001b[39m=\u001b[39m Series(other)\n\u001b[1;32m   9060\u001b[0m \u001b[39mif\u001b[39;00m other\u001b[39m.\u001b[39mname \u001b[39mis\u001b[39;00m \u001b[39mNone\u001b[39;00m \u001b[39mand\u001b[39;00m \u001b[39mnot\u001b[39;00m ignore_index:\n",
      "\u001b[0;31mTypeError\u001b[0m: Can only append a dict if ignore_index=True"
     ]
    }
   ],
   "source": [
    "peoples_df.append({'first_name' : 'Tony'})"
   ]
  },
  {
   "cell_type": "markdown",
   "metadata": {},
   "source": [
    "Dacă se rulează codul de mai sus, putem observa că primim o eroare. Această eroare apare din cauză că acest data frame nu are niciun index. De multe ori poate fi dificil să urmărim o eroare din pandas, dar în acest caz ne explică ce anume avem de făcut pentru a scăpa de acestă metodă, și anume să utilizăm argumentul 'ignore_index=True'"
   ]
  },
  {
   "cell_type": "code",
   "execution_count": 94,
   "metadata": {},
   "outputs": [
    {
     "name": "stderr",
     "output_type": "stream",
     "text": [
      "/tmp/ipykernel_528430/2174322428.py:1: FutureWarning: The frame.append method is deprecated and will be removed from pandas in a future version. Use pandas.concat instead.\n",
      "  peoples_df.append({'first_name' : 'Tony'}, ignore_index=True)\n"
     ]
    },
    {
     "data": {
      "text/html": [
       "<div>\n",
       "<style scoped>\n",
       "    .dataframe tbody tr th:only-of-type {\n",
       "        vertical-align: middle;\n",
       "    }\n",
       "\n",
       "    .dataframe tbody tr th {\n",
       "        vertical-align: top;\n",
       "    }\n",
       "\n",
       "    .dataframe thead th {\n",
       "        text-align: right;\n",
       "    }\n",
       "</style>\n",
       "<table border=\"1\" class=\"dataframe\">\n",
       "  <thead>\n",
       "    <tr style=\"text-align: right;\">\n",
       "      <th></th>\n",
       "      <th>email</th>\n",
       "      <th>full_name</th>\n",
       "      <th>first_name</th>\n",
       "      <th>last_name</th>\n",
       "    </tr>\n",
       "  </thead>\n",
       "  <tbody>\n",
       "    <tr>\n",
       "      <th>0</th>\n",
       "      <td>CoreySchafer@mail.com</td>\n",
       "      <td>Corey Schafer</td>\n",
       "      <td>Corey</td>\n",
       "      <td>Schafer</td>\n",
       "    </tr>\n",
       "    <tr>\n",
       "      <th>1</th>\n",
       "      <td>JaneDoe@mail.com</td>\n",
       "      <td>Jane Doe</td>\n",
       "      <td>Jane</td>\n",
       "      <td>Doe</td>\n",
       "    </tr>\n",
       "    <tr>\n",
       "      <th>2</th>\n",
       "      <td>JohnDoe@mail.com</td>\n",
       "      <td>John Doe</td>\n",
       "      <td>John</td>\n",
       "      <td>Doe</td>\n",
       "    </tr>\n",
       "    <tr>\n",
       "      <th>3</th>\n",
       "      <td>NaN</td>\n",
       "      <td>NaN</td>\n",
       "      <td>Tony</td>\n",
       "      <td>NaN</td>\n",
       "    </tr>\n",
       "  </tbody>\n",
       "</table>\n",
       "</div>"
      ],
      "text/plain": [
       "                   email      full_name first_name last_name\n",
       "0  CoreySchafer@mail.com  Corey Schafer      Corey   Schafer\n",
       "1       JaneDoe@mail.com       Jane Doe       Jane       Doe\n",
       "2       JohnDoe@mail.com       John Doe       John       Doe\n",
       "3                    NaN            NaN       Tony       NaN"
      ]
     },
     "execution_count": 94,
     "metadata": {},
     "output_type": "execute_result"
    }
   ],
   "source": [
    "peoples_df.append({'first_name' : 'Tony'}, ignore_index=True)"
   ]
  },
  {
   "cell_type": "markdown",
   "metadata": {},
   "source": [
    "Dacă rulăm codul de sus acesta funcționează, nu mai primi eroare și putem observa faptul că valorea 'Tony' a fost adăugată în cadrul coloanei 'first_name', iar pentru celelalte coloane s-a adăugat 'NaN'."
   ]
  },
  {
   "cell_type": "markdown",
   "metadata": {},
   "source": [
    "Dacă avem un data frame pe care dorim să îl adăugăm la un data frame existent, putem face și acest lucru. Pentru a putea executa acest pas trebuie să ne mai creem un nou data frame. O să începem prin a crea un alt dicțioanr de date pe care să îl transformăm într-un data frame"
   ]
  },
  {
   "cell_type": "code",
   "execution_count": 95,
   "metadata": {},
   "outputs": [],
   "source": [
    "add_peoples = {\n",
    "    'first_name' : ['Tony ', 'Steve'],\n",
    "    'last_name' : ['Stark', 'Rogers'],\n",
    "    'email' : ['IronMan@mail.com', 'MrsCaptain@mail.com']\n",
    "}"
   ]
  },
  {
   "cell_type": "code",
   "execution_count": 96,
   "metadata": {},
   "outputs": [],
   "source": [
    "add_peoples_df = pd.DataFrame(add_peoples)"
   ]
  },
  {
   "cell_type": "code",
   "execution_count": 97,
   "metadata": {},
   "outputs": [
    {
     "data": {
      "text/html": [
       "<div>\n",
       "<style scoped>\n",
       "    .dataframe tbody tr th:only-of-type {\n",
       "        vertical-align: middle;\n",
       "    }\n",
       "\n",
       "    .dataframe tbody tr th {\n",
       "        vertical-align: top;\n",
       "    }\n",
       "\n",
       "    .dataframe thead th {\n",
       "        text-align: right;\n",
       "    }\n",
       "</style>\n",
       "<table border=\"1\" class=\"dataframe\">\n",
       "  <thead>\n",
       "    <tr style=\"text-align: right;\">\n",
       "      <th></th>\n",
       "      <th>first_name</th>\n",
       "      <th>last_name</th>\n",
       "      <th>email</th>\n",
       "    </tr>\n",
       "  </thead>\n",
       "  <tbody>\n",
       "    <tr>\n",
       "      <th>0</th>\n",
       "      <td>Tony</td>\n",
       "      <td>Stark</td>\n",
       "      <td>IronMan@mail.com</td>\n",
       "    </tr>\n",
       "    <tr>\n",
       "      <th>1</th>\n",
       "      <td>Steve</td>\n",
       "      <td>Rogers</td>\n",
       "      <td>MrsCaptain@mail.com</td>\n",
       "    </tr>\n",
       "  </tbody>\n",
       "</table>\n",
       "</div>"
      ],
      "text/plain": [
       "  first_name last_name                email\n",
       "0      Tony      Stark     IronMan@mail.com\n",
       "1      Steve    Rogers  MrsCaptain@mail.com"
      ]
     },
     "execution_count": 97,
     "metadata": {},
     "output_type": "execute_result"
    }
   ],
   "source": [
    "add_peoples_df"
   ]
  },
  {
   "cell_type": "markdown",
   "metadata": {},
   "source": [
    "Acum tot ce trebuie să facem este să apenduim data frame-ul 'add_peoples_df' la data frame-ul inițial 'peoples_df'. Un mod de a face acest lucru este prin a utilzia metoda 'append()'. Aceste data frmae-uri au index-uri care intră în conflict și au coloane care nu sunt în aceeași ordine. Din nou, dorim să ignorăm partea de index când apenduim acest index"
   ]
  },
  {
   "cell_type": "code",
   "execution_count": 98,
   "metadata": {},
   "outputs": [
    {
     "name": "stderr",
     "output_type": "stream",
     "text": [
      "/tmp/ipykernel_528430/3363307838.py:1: FutureWarning: The frame.append method is deprecated and will be removed from pandas in a future version. Use pandas.concat instead.\n",
      "  peoples_df.append(add_peoples_df, ignore_index=True)\n"
     ]
    },
    {
     "data": {
      "text/html": [
       "<div>\n",
       "<style scoped>\n",
       "    .dataframe tbody tr th:only-of-type {\n",
       "        vertical-align: middle;\n",
       "    }\n",
       "\n",
       "    .dataframe tbody tr th {\n",
       "        vertical-align: top;\n",
       "    }\n",
       "\n",
       "    .dataframe thead th {\n",
       "        text-align: right;\n",
       "    }\n",
       "</style>\n",
       "<table border=\"1\" class=\"dataframe\">\n",
       "  <thead>\n",
       "    <tr style=\"text-align: right;\">\n",
       "      <th></th>\n",
       "      <th>email</th>\n",
       "      <th>full_name</th>\n",
       "      <th>first_name</th>\n",
       "      <th>last_name</th>\n",
       "    </tr>\n",
       "  </thead>\n",
       "  <tbody>\n",
       "    <tr>\n",
       "      <th>0</th>\n",
       "      <td>CoreySchafer@mail.com</td>\n",
       "      <td>Corey Schafer</td>\n",
       "      <td>Corey</td>\n",
       "      <td>Schafer</td>\n",
       "    </tr>\n",
       "    <tr>\n",
       "      <th>1</th>\n",
       "      <td>JaneDoe@mail.com</td>\n",
       "      <td>Jane Doe</td>\n",
       "      <td>Jane</td>\n",
       "      <td>Doe</td>\n",
       "    </tr>\n",
       "    <tr>\n",
       "      <th>2</th>\n",
       "      <td>JohnDoe@mail.com</td>\n",
       "      <td>John Doe</td>\n",
       "      <td>John</td>\n",
       "      <td>Doe</td>\n",
       "    </tr>\n",
       "    <tr>\n",
       "      <th>3</th>\n",
       "      <td>IronMan@mail.com</td>\n",
       "      <td>NaN</td>\n",
       "      <td>Tony</td>\n",
       "      <td>Stark</td>\n",
       "    </tr>\n",
       "    <tr>\n",
       "      <th>4</th>\n",
       "      <td>MrsCaptain@mail.com</td>\n",
       "      <td>NaN</td>\n",
       "      <td>Steve</td>\n",
       "      <td>Rogers</td>\n",
       "    </tr>\n",
       "  </tbody>\n",
       "</table>\n",
       "</div>"
      ],
      "text/plain": [
       "                   email      full_name first_name last_name\n",
       "0  CoreySchafer@mail.com  Corey Schafer      Corey   Schafer\n",
       "1       JaneDoe@mail.com       Jane Doe       Jane       Doe\n",
       "2       JohnDoe@mail.com       John Doe       John       Doe\n",
       "3       IronMan@mail.com            NaN      Tony      Stark\n",
       "4    MrsCaptain@mail.com            NaN      Steve    Rogers"
      ]
     },
     "execution_count": 98,
     "metadata": {},
     "output_type": "execute_result"
    }
   ],
   "source": [
    "peoples_df.append(add_peoples_df, ignore_index=True)"
   ]
  },
  {
   "cell_type": "markdown",
   "metadata": {},
   "source": [
    "În comparație cu metoda 'drop()', metoda 'append()' nu are disponibil argumentul 'inplace=True' pentru a face aceste modficări permanente (doarece momentan acestea nu sunt prezente în data frame), iar pentru a putea face ca acestea să fie permanente trebuie să asignăm întregul data frame la acest rezultat"
   ]
  },
  {
   "cell_type": "code",
   "execution_count": 99,
   "metadata": {},
   "outputs": [
    {
     "name": "stderr",
     "output_type": "stream",
     "text": [
      "/tmp/ipykernel_528430/1560796945.py:1: FutureWarning: The frame.append method is deprecated and will be removed from pandas in a future version. Use pandas.concat instead.\n",
      "  peoples_df = peoples_df.append(add_peoples_df, ignore_index=True)\n"
     ]
    }
   ],
   "source": [
    "peoples_df = peoples_df.append(add_peoples_df, ignore_index=True)"
   ]
  },
  {
   "cell_type": "code",
   "execution_count": 100,
   "metadata": {},
   "outputs": [
    {
     "data": {
      "text/html": [
       "<div>\n",
       "<style scoped>\n",
       "    .dataframe tbody tr th:only-of-type {\n",
       "        vertical-align: middle;\n",
       "    }\n",
       "\n",
       "    .dataframe tbody tr th {\n",
       "        vertical-align: top;\n",
       "    }\n",
       "\n",
       "    .dataframe thead th {\n",
       "        text-align: right;\n",
       "    }\n",
       "</style>\n",
       "<table border=\"1\" class=\"dataframe\">\n",
       "  <thead>\n",
       "    <tr style=\"text-align: right;\">\n",
       "      <th></th>\n",
       "      <th>email</th>\n",
       "      <th>full_name</th>\n",
       "      <th>first_name</th>\n",
       "      <th>last_name</th>\n",
       "    </tr>\n",
       "  </thead>\n",
       "  <tbody>\n",
       "    <tr>\n",
       "      <th>0</th>\n",
       "      <td>CoreySchafer@mail.com</td>\n",
       "      <td>Corey Schafer</td>\n",
       "      <td>Corey</td>\n",
       "      <td>Schafer</td>\n",
       "    </tr>\n",
       "    <tr>\n",
       "      <th>1</th>\n",
       "      <td>JaneDoe@mail.com</td>\n",
       "      <td>Jane Doe</td>\n",
       "      <td>Jane</td>\n",
       "      <td>Doe</td>\n",
       "    </tr>\n",
       "    <tr>\n",
       "      <th>2</th>\n",
       "      <td>JohnDoe@mail.com</td>\n",
       "      <td>John Doe</td>\n",
       "      <td>John</td>\n",
       "      <td>Doe</td>\n",
       "    </tr>\n",
       "    <tr>\n",
       "      <th>3</th>\n",
       "      <td>IronMan@mail.com</td>\n",
       "      <td>NaN</td>\n",
       "      <td>Tony</td>\n",
       "      <td>Stark</td>\n",
       "    </tr>\n",
       "    <tr>\n",
       "      <th>4</th>\n",
       "      <td>MrsCaptain@mail.com</td>\n",
       "      <td>NaN</td>\n",
       "      <td>Steve</td>\n",
       "      <td>Rogers</td>\n",
       "    </tr>\n",
       "  </tbody>\n",
       "</table>\n",
       "</div>"
      ],
      "text/plain": [
       "                   email      full_name first_name last_name\n",
       "0  CoreySchafer@mail.com  Corey Schafer      Corey   Schafer\n",
       "1       JaneDoe@mail.com       Jane Doe       Jane       Doe\n",
       "2       JohnDoe@mail.com       John Doe       John       Doe\n",
       "3       IronMan@mail.com            NaN      Tony      Stark\n",
       "4    MrsCaptain@mail.com            NaN      Steve    Rogers"
      ]
     },
     "execution_count": 100,
     "metadata": {},
     "output_type": "execute_result"
    }
   ],
   "source": [
    "peoples_df"
   ]
  },
  {
   "cell_type": "markdown",
   "metadata": {},
   "source": [
    "Să aruncăm o privire și la modul cum putem șterge rânduri dintr-un data frame. Să zicem că dorim să eliminăm din data frame-ul nostru rândul unde pentru coloana 'first_name' avem valoarea 'Steve'. Putem face acest lucru asemănător precum ștergem o anumită coloană, numai că în loc de coloana ce dorim să o ștergem, specificăm index-ul de la rândul pe care dorim să îl ștergem. Valoarea ce dorim să o ștergem se găsește pe index-ul 4 din data frame."
   ]
  },
  {
   "cell_type": "code",
   "execution_count": 101,
   "metadata": {},
   "outputs": [
    {
     "data": {
      "text/html": [
       "<div>\n",
       "<style scoped>\n",
       "    .dataframe tbody tr th:only-of-type {\n",
       "        vertical-align: middle;\n",
       "    }\n",
       "\n",
       "    .dataframe tbody tr th {\n",
       "        vertical-align: top;\n",
       "    }\n",
       "\n",
       "    .dataframe thead th {\n",
       "        text-align: right;\n",
       "    }\n",
       "</style>\n",
       "<table border=\"1\" class=\"dataframe\">\n",
       "  <thead>\n",
       "    <tr style=\"text-align: right;\">\n",
       "      <th></th>\n",
       "      <th>email</th>\n",
       "      <th>full_name</th>\n",
       "      <th>first_name</th>\n",
       "      <th>last_name</th>\n",
       "    </tr>\n",
       "  </thead>\n",
       "  <tbody>\n",
       "    <tr>\n",
       "      <th>0</th>\n",
       "      <td>CoreySchafer@mail.com</td>\n",
       "      <td>Corey Schafer</td>\n",
       "      <td>Corey</td>\n",
       "      <td>Schafer</td>\n",
       "    </tr>\n",
       "    <tr>\n",
       "      <th>1</th>\n",
       "      <td>JaneDoe@mail.com</td>\n",
       "      <td>Jane Doe</td>\n",
       "      <td>Jane</td>\n",
       "      <td>Doe</td>\n",
       "    </tr>\n",
       "    <tr>\n",
       "      <th>2</th>\n",
       "      <td>JohnDoe@mail.com</td>\n",
       "      <td>John Doe</td>\n",
       "      <td>John</td>\n",
       "      <td>Doe</td>\n",
       "    </tr>\n",
       "    <tr>\n",
       "      <th>3</th>\n",
       "      <td>IronMan@mail.com</td>\n",
       "      <td>NaN</td>\n",
       "      <td>Tony</td>\n",
       "      <td>Stark</td>\n",
       "    </tr>\n",
       "  </tbody>\n",
       "</table>\n",
       "</div>"
      ],
      "text/plain": [
       "                   email      full_name first_name last_name\n",
       "0  CoreySchafer@mail.com  Corey Schafer      Corey   Schafer\n",
       "1       JaneDoe@mail.com       Jane Doe       Jane       Doe\n",
       "2       JohnDoe@mail.com       John Doe       John       Doe\n",
       "3       IronMan@mail.com            NaN      Tony      Stark"
      ]
     },
     "execution_count": 101,
     "metadata": {},
     "output_type": "execute_result"
    }
   ],
   "source": [
    "peoples_df.drop(index=4)"
   ]
  },
  {
   "cell_type": "markdown",
   "metadata": {},
   "source": [
    "Rândul găsit pe index-ul 4 a fost șters, însă nu definitiv, pentru a face aceste modificări permanente trebuie să setăm argumentul 'inplace=True'. Exemplul de mai sus funcționează pentru situația când dorim să ștergem un singur rând. Dacă dorim să ștergem mai multe rânduri cu o singură linie de cod utilizând drop, atunci putem să ne folosim de partea de filtrare de date. În cazul filtrării este recomandat să se utilizeze indexatorul 'loc', dar pentru situațiile când dorim să ștergem mai multe date dintr-un data frame nu o să utilizăm acel indexator, ci o să utilizăm doar notația cu paranteze drepte. Să presupunem că dorim să șterge, toate rândurile din data frame unde pentru coloana 'last_name' avem valoarea 'Doe'. Pentru început o să creem un fiștru și o să îl aplicăm"
   ]
  },
  {
   "cell_type": "code",
   "execution_count": 105,
   "metadata": {},
   "outputs": [],
   "source": [
    "# create the filter\n",
    "filter_df = peoples_df['last_name'] == 'Doe'"
   ]
  },
  {
   "cell_type": "code",
   "execution_count": 107,
   "metadata": {},
   "outputs": [
    {
     "data": {
      "text/html": [
       "<div>\n",
       "<style scoped>\n",
       "    .dataframe tbody tr th:only-of-type {\n",
       "        vertical-align: middle;\n",
       "    }\n",
       "\n",
       "    .dataframe tbody tr th {\n",
       "        vertical-align: top;\n",
       "    }\n",
       "\n",
       "    .dataframe thead th {\n",
       "        text-align: right;\n",
       "    }\n",
       "</style>\n",
       "<table border=\"1\" class=\"dataframe\">\n",
       "  <thead>\n",
       "    <tr style=\"text-align: right;\">\n",
       "      <th></th>\n",
       "      <th>email</th>\n",
       "      <th>full_name</th>\n",
       "      <th>first_name</th>\n",
       "      <th>last_name</th>\n",
       "    </tr>\n",
       "  </thead>\n",
       "  <tbody>\n",
       "    <tr>\n",
       "      <th>1</th>\n",
       "      <td>JaneDoe@mail.com</td>\n",
       "      <td>Jane Doe</td>\n",
       "      <td>Jane</td>\n",
       "      <td>Doe</td>\n",
       "    </tr>\n",
       "    <tr>\n",
       "      <th>2</th>\n",
       "      <td>JohnDoe@mail.com</td>\n",
       "      <td>John Doe</td>\n",
       "      <td>John</td>\n",
       "      <td>Doe</td>\n",
       "    </tr>\n",
       "  </tbody>\n",
       "</table>\n",
       "</div>"
      ],
      "text/plain": [
       "              email full_name first_name last_name\n",
       "1  JaneDoe@mail.com  Jane Doe       Jane       Doe\n",
       "2  JohnDoe@mail.com  John Doe       John       Doe"
      ]
     },
     "execution_count": 107,
     "metadata": {},
     "output_type": "execute_result"
    }
   ],
   "source": [
    "# applying the filter using loc\n",
    "peoples_df.loc[filter_df]"
   ]
  },
  {
   "cell_type": "code",
   "execution_count": 109,
   "metadata": {},
   "outputs": [
    {
     "data": {
      "text/html": [
       "<div>\n",
       "<style scoped>\n",
       "    .dataframe tbody tr th:only-of-type {\n",
       "        vertical-align: middle;\n",
       "    }\n",
       "\n",
       "    .dataframe tbody tr th {\n",
       "        vertical-align: top;\n",
       "    }\n",
       "\n",
       "    .dataframe thead th {\n",
       "        text-align: right;\n",
       "    }\n",
       "</style>\n",
       "<table border=\"1\" class=\"dataframe\">\n",
       "  <thead>\n",
       "    <tr style=\"text-align: right;\">\n",
       "      <th></th>\n",
       "      <th>email</th>\n",
       "      <th>full_name</th>\n",
       "      <th>first_name</th>\n",
       "      <th>last_name</th>\n",
       "    </tr>\n",
       "  </thead>\n",
       "  <tbody>\n",
       "    <tr>\n",
       "      <th>1</th>\n",
       "      <td>JaneDoe@mail.com</td>\n",
       "      <td>Jane Doe</td>\n",
       "      <td>Jane</td>\n",
       "      <td>Doe</td>\n",
       "    </tr>\n",
       "    <tr>\n",
       "      <th>2</th>\n",
       "      <td>JohnDoe@mail.com</td>\n",
       "      <td>John Doe</td>\n",
       "      <td>John</td>\n",
       "      <td>Doe</td>\n",
       "    </tr>\n",
       "  </tbody>\n",
       "</table>\n",
       "</div>"
      ],
      "text/plain": [
       "              email full_name first_name last_name\n",
       "1  JaneDoe@mail.com  Jane Doe       Jane       Doe\n",
       "2  JohnDoe@mail.com  John Doe       John       Doe"
      ]
     },
     "execution_count": 109,
     "metadata": {},
     "output_type": "execute_result"
    }
   ],
   "source": [
    "# applying the filter using brackets notation\n",
    "peoples_df[filter_df]"
   ]
  },
  {
   "cell_type": "markdown",
   "metadata": {},
   "source": [
    "Pentru a șterge un anumit rând dintr-un data frame, avem nevoie de index-ul acelui rând. Pentru a obține indexii de la o filtrare ne putem folosi de atributul `.index` pe care o să îl aplicăm în urma aplăcrii filtrului"
   ]
  },
  {
   "cell_type": "code",
   "execution_count": 111,
   "metadata": {},
   "outputs": [
    {
     "data": {
      "text/plain": [
       "Int64Index([1, 2], dtype='int64')"
      ]
     },
     "execution_count": 111,
     "metadata": {},
     "output_type": "execute_result"
    }
   ],
   "source": [
    "# getting the index of the filter results\n",
    "peoples_df[filter_df].index"
   ]
  },
  {
   "cell_type": "markdown",
   "metadata": {},
   "source": [
    "Putem vedea că în urma codului de mai sus, am primit ca și listă de valori indexii pe care se găsesc toate rândurile din data frame unde pentru coloana 'last_name' avem valoarea 'Doe'. Prin urmare, putem să utilizăm această sintaxă în cadrul metodei '.drop()' pentru a șterge aceste rânduri."
   ]
  },
  {
   "cell_type": "code",
   "execution_count": 112,
   "metadata": {},
   "outputs": [
    {
     "data": {
      "text/html": [
       "<div>\n",
       "<style scoped>\n",
       "    .dataframe tbody tr th:only-of-type {\n",
       "        vertical-align: middle;\n",
       "    }\n",
       "\n",
       "    .dataframe tbody tr th {\n",
       "        vertical-align: top;\n",
       "    }\n",
       "\n",
       "    .dataframe thead th {\n",
       "        text-align: right;\n",
       "    }\n",
       "</style>\n",
       "<table border=\"1\" class=\"dataframe\">\n",
       "  <thead>\n",
       "    <tr style=\"text-align: right;\">\n",
       "      <th></th>\n",
       "      <th>email</th>\n",
       "      <th>full_name</th>\n",
       "      <th>first_name</th>\n",
       "      <th>last_name</th>\n",
       "    </tr>\n",
       "  </thead>\n",
       "  <tbody>\n",
       "    <tr>\n",
       "      <th>0</th>\n",
       "      <td>CoreySchafer@mail.com</td>\n",
       "      <td>Corey Schafer</td>\n",
       "      <td>Corey</td>\n",
       "      <td>Schafer</td>\n",
       "    </tr>\n",
       "    <tr>\n",
       "      <th>3</th>\n",
       "      <td>IronMan@mail.com</td>\n",
       "      <td>NaN</td>\n",
       "      <td>Tony</td>\n",
       "      <td>Stark</td>\n",
       "    </tr>\n",
       "    <tr>\n",
       "      <th>4</th>\n",
       "      <td>MrsCaptain@mail.com</td>\n",
       "      <td>NaN</td>\n",
       "      <td>Steve</td>\n",
       "      <td>Rogers</td>\n",
       "    </tr>\n",
       "  </tbody>\n",
       "</table>\n",
       "</div>"
      ],
      "text/plain": [
       "                   email      full_name first_name last_name\n",
       "0  CoreySchafer@mail.com  Corey Schafer      Corey   Schafer\n",
       "3       IronMan@mail.com            NaN      Tony      Stark\n",
       "4    MrsCaptain@mail.com            NaN      Steve    Rogers"
      ]
     },
     "execution_count": 112,
     "metadata": {},
     "output_type": "execute_result"
    }
   ],
   "source": [
    "peoples_df.drop(peoples_df[filter_df].index)"
   ]
  },
  {
   "cell_type": "markdown",
   "metadata": {},
   "source": [
    "## Recapitulare"
   ]
  },
  {
   "cell_type": "markdown",
   "metadata": {},
   "source": [
    "În această parte din tutorial am învățat următoarele lucruri:\n",
    "\n",
    "    1. Cum să combinăm datele din 2 coloane într-un singur obiect de tip Series\n",
    "\n",
    "        df['first_name'] + ' ' + df['last_name']\n",
    "\n",
    "    2. Cum să creem o nouă coloană din combinarea a două coloane\n",
    "\n",
    "        df['fullname'] = df['first_name'] + ' ' + df['last_name']\n",
    "\n",
    "    3. Cum să ștergem o coloană dintr-un data frame\n",
    "\n",
    "        df.drop(columns='first_name')\n",
    "\n",
    "    4. Cum să ștergem definitiv o coloană/sau mai multe dintr-un data frame\n",
    "\n",
    "        df.drop(columns=['first_name', 'last_name'], inplace=True)\n",
    "\n",
    "    5.Cum să separăm datele dintr-o coloană într-o listă de valori (sub formă de listă într-un obiect de tip Series)\n",
    "\n",
    "        df['full_name'].str.split(' ')\n",
    "\n",
    "    6. Cum să facem expand la acele date dintr-o listă de valori dintr-un obiect de tip Series în mai multe coloane\n",
    "\n",
    "        df['full_name'].str.split(' ', expand=True)\n",
    "\n",
    "    7. Cum să creem 2 coloane cu datele ce au rezultat în urma expand-ului\n",
    "\n",
    "        df[['first_name', 'last_name']] = df['full_name'].str.split(' ', expand=True)\n",
    "\n",
    "    8. Cum să adăugăm un rând nou la un data frame\n",
    "\n",
    "        df.append({'first_name' : 'Tony'}, ignore_index=True)\n",
    "\n",
    "    9. Cum să adăugăm un data frame la un data frame existent\n",
    "\n",
    "        df.append(add_df, igonre_index=True)\n",
    "\n",
    "    10. Cum să ștergem un singur rând dintr-un data frame după index\n",
    "\n",
    "        df.drop(index=4)\n",
    "\n",
    "    11. Cum să ștergem mai multe rânduri dintr-un data frame rezultate după un filtru\n",
    "\n",
    "        filter_df = df['last_name'] == 'Doe'\n",
    "\n",
    "        df.loc[filter_df]\n",
    "\n",
    "        df.loc[filter_df].index\n",
    "\n",
    "        df.drop(df.loc[filter_df].index)"
   ]
  },
  {
   "cell_type": "markdown",
   "metadata": {},
   "source": []
  }
 ],
 "metadata": {
  "kernelspec": {
   "display_name": "Python 3.9.7 ('venv': venv)",
   "language": "python",
   "name": "python3"
  },
  "language_info": {
   "codemirror_mode": {
    "name": "ipython",
    "version": 3
   },
   "file_extension": ".py",
   "mimetype": "text/x-python",
   "name": "python",
   "nbconvert_exporter": "python",
   "pygments_lexer": "ipython3",
   "version": "3.9.7"
  },
  "orig_nbformat": 4,
  "vscode": {
   "interpreter": {
    "hash": "aae89850a26e3aec0bcc7ee872c1c778159b0485c540b97be98664ba69efac42"
   }
  }
 },
 "nbformat": 4,
 "nbformat_minor": 2
}
